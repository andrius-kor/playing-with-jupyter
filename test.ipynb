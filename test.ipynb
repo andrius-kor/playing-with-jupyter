{
 "cells": [
  {
   "cell_type": "raw",
   "id": "624c171d-4102-4e05-9828-0ec7308f0dab",
   "metadata": {},
   "source": [
    "i = 1 \n",
    "j = 2\n",
    "k = i + j"
   ]
  },
  {
   "cell_type": "code",
   "execution_count": 2,
   "id": "8e1640a9-139f-4620-a932-996a85363e05",
   "metadata": {},
   "outputs": [
    {
     "data": {
      "text/plain": [
       "3"
      ]
     },
     "execution_count": 2,
     "metadata": {},
     "output_type": "execute_result"
    }
   ],
   "source": [
    "k"
   ]
  },
  {
   "cell_type": "markdown",
   "id": "8d6147e7-57fa-468d-8056-cbc3e0d772a5",
   "metadata": {},
   "source": [
    "# This is Markdown Heading\n",
    "\n",
    "**Bold text**\n",
    "\n",
    "- List 1\n",
    "- List 2\n",
    "- List 3\n",
    "\n",
    "![](https://learnonline.gmit.ie/pluginfile.php/1/theme_adaptable/logo/1632463904/Transparent%20new.png)\n"
   ]
  },
  {
   "cell_type": "code",
   "execution_count": null,
   "id": "8ce5828b-9844-44f9-9c64-5ee304427903",
   "metadata": {},
   "outputs": [],
   "source": []
  }
 ],
 "metadata": {
  "kernelspec": {
   "display_name": "Python 3",
   "language": "python",
   "name": "python3"
  },
  "language_info": {
   "codemirror_mode": {
    "name": "ipython",
    "version": 3
   },
   "file_extension": ".py",
   "mimetype": "text/x-python",
   "name": "python",
   "nbconvert_exporter": "python",
   "pygments_lexer": "ipython3",
   "version": "3.8.8"
  }
 },
 "nbformat": 4,
 "nbformat_minor": 5
}
